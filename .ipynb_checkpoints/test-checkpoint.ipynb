{
 "cells": [
  {
   "cell_type": "code",
   "execution_count": 1,
   "id": "1d4f9f60",
   "metadata": {},
   "outputs": [
    {
     "name": "stderr",
     "output_type": "stream",
     "text": [
      "c:\\app\\miniconda\\envs\\LLM\\lib\\site-packages\\tqdm\\auto.py:21: TqdmWarning: IProgress not found. Please update jupyter and ipywidgets. See https://ipywidgets.readthedocs.io/en/stable/user_install.html\n",
      "  from .autonotebook import tqdm as notebook_tqdm\n"
     ]
    },
    {
     "name": "stdout",
     "output_type": "stream",
     "text": [
      "--- 环境诊断开始 ---\n",
      "PyTorch 版本: 2.7.1+cu128\n",
      "Transformers 版本: 4.54.1\n",
      "\n",
      "GPU 是否可用: True\n",
      "检测到 1 个GPU。\n",
      "当前使用的GPU索引: 0\n",
      "当前GPU名称: NVIDIA GeForce RTX 4060 Ti\n",
      "成功将张量移动到GPU: tensor([1., 2., 3.], device='cuda:0')\n",
      "GPU工作正常！\n",
      "\n",
      "--- 环境诊断结束 ---\n"
     ]
    }
   ],
   "source": [
    "import torch\n",
    "import transformers\n",
    "\n",
    "print(\"--- 环境诊断开始 ---\")\n",
    "\n",
    "# 1. 检查 PyTorch 版本\n",
    "print(f\"PyTorch 版本: {torch.__version__}\")\n",
    "\n",
    "# 2. 检查 Transformers 版本\n",
    "print(f\"Transformers 版本: {transformers.__version__}\")\n",
    "\n",
    "# 3. 核心测试：检查GPU是否可用\n",
    "is_cuda_available = torch.cuda.is_available()\n",
    "print(f\"\\nGPU 是否可用: {is_cuda_available}\")\n",
    "\n",
    "if is_cuda_available:\n",
    "    # 如果GPU可用，打印更多信息\n",
    "    gpu_count = torch.cuda.device_count()\n",
    "    current_gpu_index = torch.cuda.current_device()\n",
    "    gpu_name = torch.cuda.get_device_name(current_gpu_index)\n",
    "    \n",
    "    print(f\"检测到 {gpu_count} 个GPU。\")\n",
    "    print(f\"当前使用的GPU索引: {current_gpu_index}\")\n",
    "    print(f\"当前GPU名称: {gpu_name}\")\n",
    "    \n",
    "    # 简单的张量运算测试，确认GPU可以工作\n",
    "    try:\n",
    "        x = torch.tensor([1.0, 2.0, 3.0]).to(\"cuda\")\n",
    "        print(f\"成功将张量移动到GPU: {x}\")\n",
    "        print(\"GPU工作正常！\")\n",
    "    except Exception as e:\n",
    "        print(f\"GPU运算时出错: {e}\")\n",
    "\n",
    "else:\n",
    "    print(\"未检测到可用的NVIDIA GPU。模型将会在CPU上运行。\")\n",
    "    print(\"（注意：在CPU上运行大模型会非常慢。）\")\n",
    "\n",
    "print(\"\\n--- 环境诊断结束 ---\")"
   ]
  },
  {
   "cell_type": "code",
   "execution_count": null,
   "id": "5196cc53",
   "metadata": {},
   "outputs": [],
   "source": []
  }
 ],
 "metadata": {
  "kernelspec": {
   "display_name": "Python 3 (ipykernel)",
   "language": "python",
   "name": "python3"
  },
  "language_info": {
   "codemirror_mode": {
    "name": "ipython",
    "version": 3
   },
   "file_extension": ".py",
   "mimetype": "text/x-python",
   "name": "python",
   "nbconvert_exporter": "python",
   "pygments_lexer": "ipython3",
   "version": "3.10.18"
  }
 },
 "nbformat": 4,
 "nbformat_minor": 5
}
